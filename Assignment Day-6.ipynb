{
 "cells": [
  {
   "cell_type": "markdown",
   "metadata": {},
   "source": [
    "# Assignment Day 6"
   ]
  },
  {
   "cell_type": "markdown",
   "metadata": {},
   "source": [
    "Q.1 - Write a program to determine how many holes are there in a given text."
   ]
  },
  {
   "cell_type": "code",
   "execution_count": 1,
   "metadata": {},
   "outputs": [
    {
     "name": "stdout",
     "output_type": "stream",
     "text": [
      "Enter a string to check: drinkeatcode\n",
      "DRINKEATCODE\n",
      "Number of holes present in the text are: 5\n"
     ]
    }
   ],
   "source": [
    "# Solution:\n",
    "\n",
    "list_1 = ['A', 'D', 'O', 'P', 'Q', 'R']\n",
    "list_2 = ['B']\n",
    "\n",
    "string = input(\"Enter a string to check: \").upper()\n",
    "print(string)\n",
    "\n",
    "count = 0\n",
    "for i in string:\n",
    "    if i in list_1:\n",
    "        count = count + 1\n",
    "    if i in list_2:\n",
    "        count = count + 2\n",
    "print(\"Number of holes present in the text are:\", count)"
   ]
  },
  {
   "cell_type": "code",
   "execution_count": null,
   "metadata": {},
   "outputs": [],
   "source": []
  },
  {
   "cell_type": "markdown",
   "metadata": {},
   "source": [
    "Q.2 - Create a notebook covering map and lambda functions as taught in the session."
   ]
  },
  {
   "cell_type": "markdown",
   "metadata": {},
   "source": [
    "1. MAP Function - It applies the given function to all iterables and returns a new list.\n",
    "\n",
    "   Syntax: map(function, iterables)"
   ]
  },
  {
   "cell_type": "code",
   "execution_count": 2,
   "metadata": {},
   "outputs": [
    {
     "name": "stdout",
     "output_type": "stream",
     "text": [
      "25\n"
     ]
    }
   ],
   "source": [
    "# without using map function\n",
    "def sqr(a):\n",
    "    return a*a\n",
    "\n",
    "x = sqr(5)\n",
    "print(x)"
   ]
  },
  {
   "cell_type": "code",
   "execution_count": 3,
   "metadata": {},
   "outputs": [
    {
     "name": "stdout",
     "output_type": "stream",
     "text": [
      "<map object at 0x000001624FC4C780>\n",
      "[1, 4, 9, 16]\n",
      "(1, 4, 9, 16, 9, 484)\n"
     ]
    }
   ],
   "source": [
    "# with map() function\n",
    "def sqr(a):\n",
    "    return a*a\n",
    "\n",
    "x = map(sqr, [1, 2, 3, 4])\n",
    "y = map(sqr, [1, 2, 3, 4, 3, 22])\n",
    "print(x)\n",
    "print(list(x))\n",
    "print(tuple(y))"
   ]
  },
  {
   "cell_type": "code",
   "execution_count": 4,
   "metadata": {},
   "outputs": [
    {
     "name": "stdout",
     "output_type": "stream",
     "text": [
      "<class 'map'>\n",
      "{8, 2, 4, 6}\n"
     ]
    }
   ],
   "source": [
    "def sqr(a, b):\n",
    "    return a*b\n",
    "\n",
    "x = map(sqr, [1, 2, 3, 4], [2, 2, 2, 2])\n",
    "print(type(x))\n",
    "print(set(x))"
   ]
  },
  {
   "cell_type": "code",
   "execution_count": 5,
   "metadata": {},
   "outputs": [
    {
     "name": "stdout",
     "output_type": "stream",
     "text": [
      "[-1, 0, 1, 2]\n"
     ]
    }
   ],
   "source": [
    "def diff(a, b):\n",
    "    return a-b\n",
    "\n",
    "print(list(map(diff, [1, 2, 3, 4], [2, 2, 2, 2])))"
   ]
  },
  {
   "cell_type": "markdown",
   "metadata": {},
   "source": [
    "2. Lambda\n",
    "\n",
    "    Lambda functions are nameless. They are generally provided as input to the other functions.\n",
    "\n",
    "    Lambda functions are single line functions, therefore, we have to provide the expression along with the function itself.\n",
    "    Note: 'lambda' is not a name, it's a keyword\n",
    "\n",
    "    Syntax : lambda arguments:expression"
   ]
  },
  {
   "cell_type": "code",
   "execution_count": 6,
   "metadata": {},
   "outputs": [
    {
     "data": {
      "text/plain": [
       "9"
      ]
     },
     "execution_count": 6,
     "metadata": {},
     "output_type": "execute_result"
    }
   ],
   "source": [
    "#without lambda\n",
    "def sqr(a):\n",
    "    return a*a\n",
    "\n",
    "sqr(3)"
   ]
  },
  {
   "cell_type": "code",
   "execution_count": 7,
   "metadata": {},
   "outputs": [
    {
     "data": {
      "text/plain": [
       "9"
      ]
     },
     "execution_count": 7,
     "metadata": {},
     "output_type": "execute_result"
    }
   ],
   "source": [
    "# with lambda\n",
    "x = lambda a: a*a\n",
    "x(3)"
   ]
  },
  {
   "cell_type": "code",
   "execution_count": 8,
   "metadata": {},
   "outputs": [
    {
     "name": "stdout",
     "output_type": "stream",
     "text": [
      "<function abc.<locals>.<lambda> at 0x000001624FC227B8>\n",
      "9\n"
     ]
    }
   ],
   "source": [
    "# lambda within a user defined function\n",
    "def abc(x):\n",
    "    return lambda y:x+y\n",
    "\n",
    "t = abc(4)\n",
    "print(t)\n",
    "print(t(5))"
   ]
  },
  {
   "cell_type": "markdown",
   "metadata": {},
   "source": [
    "# Thank You"
   ]
  }
 ],
 "metadata": {
  "kernelspec": {
   "display_name": "Python 3",
   "language": "python",
   "name": "python3"
  },
  "language_info": {
   "codemirror_mode": {
    "name": "ipython",
    "version": 3
   },
   "file_extension": ".py",
   "mimetype": "text/x-python",
   "name": "python",
   "nbconvert_exporter": "python",
   "pygments_lexer": "ipython3",
   "version": "3.7.3"
  }
 },
 "nbformat": 4,
 "nbformat_minor": 2
}
