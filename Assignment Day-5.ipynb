{
 "cells": [
  {
   "cell_type": "markdown",
   "metadata": {},
   "source": [
    "# Assignment Day 5"
   ]
  },
  {
   "cell_type": "markdown",
   "metadata": {},
   "source": [
    "Q.1 - WAP to generate dictionary d which contains (i, i * i)."
   ]
  },
  {
   "cell_type": "code",
   "execution_count": 1,
   "metadata": {},
   "outputs": [
    {
     "name": "stdout",
     "output_type": "stream",
     "text": [
      "Enter a value:8\n",
      "{1: 1, 2: 4, 3: 9, 4: 16, 5: 25, 6: 36, 7: 49, 8: 64} <class 'dict'>\n"
     ]
    }
   ],
   "source": [
    "# Solution:\n",
    "\n",
    "def genDict(n):\n",
    "    d = {}\n",
    "    for i in range(1, n+1):\n",
    "        a = i*i\n",
    "        d.update({i:a})\n",
    "    print(d, type(d))\n",
    "\n",
    "num = int(input(\"Enter a value:\"))\n",
    "genDict(num)"
   ]
  },
  {
   "cell_type": "markdown",
   "metadata": {},
   "source": [
    "Q.2 - Create a list of nos from 1-50 named list_1. Print the numbers returned by list_1[a:b]"
   ]
  },
  {
   "cell_type": "code",
   "execution_count": 5,
   "metadata": {},
   "outputs": [],
   "source": [
    "# Solution:\n",
    "\n",
    "# funtion to generate list\n",
    "list_1 = []\n",
    "def genList():\n",
    "    for i in range(1, 51):\n",
    "        list_1.append(i)\n",
    "    return list_1"
   ]
  },
  {
   "cell_type": "code",
   "execution_count": 6,
   "metadata": {},
   "outputs": [
    {
     "name": "stdout",
     "output_type": "stream",
     "text": [
      "Enter value of a and b: 2 6\n",
      "3\n",
      "4\n",
      "5\n",
      "6\n"
     ]
    }
   ],
   "source": [
    "# function to get the numbers from list_1\n",
    "def getNums(a, b):\n",
    "    genList()\n",
    "    for i in list_1[a: b]:\n",
    "        print(i, end=\"\\n\")\n",
    "\n",
    "a, b = map(int, input(\"Enter value of a and b: \").split())\n",
    "\n",
    "getNums(a, b)"
   ]
  },
  {
   "cell_type": "markdown",
   "metadata": {},
   "source": [
    "# Thank You"
   ]
  }
 ],
 "metadata": {
  "kernelspec": {
   "display_name": "Python 3",
   "language": "python",
   "name": "python3"
  },
  "language_info": {
   "codemirror_mode": {
    "name": "ipython",
    "version": 3
   },
   "file_extension": ".py",
   "mimetype": "text/x-python",
   "name": "python",
   "nbconvert_exporter": "python",
   "pygments_lexer": "ipython3",
   "version": "3.7.3"
  }
 },
 "nbformat": 4,
 "nbformat_minor": 2
}
