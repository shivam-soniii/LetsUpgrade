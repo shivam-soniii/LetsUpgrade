{
 "cells": [
  {
   "cell_type": "markdown",
   "metadata": {},
   "source": [
    "# Assignment Day 1"
   ]
  },
  {
   "cell_type": "markdown",
   "metadata": {},
   "source": [
    "### List "
   ]
  },
  {
   "cell_type": "code",
   "execution_count": 1,
   "metadata": {},
   "outputs": [
    {
     "name": "stdout",
     "output_type": "stream",
     "text": [
      "['wolf', 'lion', [4, 1, 1997], 88.5, 44.2, ['ant', 'boot']]\n",
      "<class 'list'>\n"
     ]
    }
   ],
   "source": [
    "# Explore default List methods (List - mutable, ordered list of objects)\n",
    "my_list = ['wolf', 'lion', [4, 1, 1997], 88.5, 44.2, ['ant', 'boot']]\n",
    "print(my_list)\n",
    "print(type(my_list))"
   ]
  },
  {
   "cell_type": "code",
   "execution_count": 2,
   "metadata": {},
   "outputs": [
    {
     "name": "stdout",
     "output_type": "stream",
     "text": [
      "['wolf', 'lion', [4, 1, 1997], 88.5, 44.2, ['ant', 'boot'], 'add_value', 'wolf']\n"
     ]
    }
   ],
   "source": [
    "# Append - Add an item to the end of the list.\n",
    "my_list.append('add_value')\n",
    "my_list.append('wolf')\n",
    "print(my_list)"
   ]
  },
  {
   "cell_type": "code",
   "execution_count": 3,
   "metadata": {},
   "outputs": [
    {
     "name": "stdout",
     "output_type": "stream",
     "text": [
      "['wolf', 'lion', [1, 4, 1997], 88.5, 44.2, ['ant', 'boot'], 'add_value', 'wolf']\n"
     ]
    }
   ],
   "source": [
    "# Sort - Sorts the item of list in place.\n",
    "my_list[2].sort()\n",
    "print(my_list)"
   ]
  },
  {
   "cell_type": "code",
   "execution_count": 4,
   "metadata": {},
   "outputs": [
    {
     "data": {
      "text/plain": [
       "2"
      ]
     },
     "execution_count": 4,
     "metadata": {},
     "output_type": "execute_result"
    }
   ],
   "source": [
    "# Count - Returns the number of times x appears in the list\n",
    "my_list.count('wolf')"
   ]
  },
  {
   "cell_type": "code",
   "execution_count": 5,
   "metadata": {},
   "outputs": [
    {
     "name": "stdout",
     "output_type": "stream",
     "text": [
      "['wolf', 'lion', 'inserted_value', [1, 4, 1997], 88.5, 44.2, ['ant', 'boot'], 'add_value', 'wolf']\n"
     ]
    }
   ],
   "source": [
    "# Insert - Insert an item at a given position\n",
    "my_list.insert(2, 'inserted_value')\n",
    "print(my_list)"
   ]
  },
  {
   "cell_type": "code",
   "execution_count": 6,
   "metadata": {},
   "outputs": [
    {
     "name": "stdout",
     "output_type": "stream",
     "text": [
      "['wolf', 'lion', 'inserted_value', [1997, 4, 1], 88.5, 44.2, ['ant', 'boot'], 'add_value', 'wolf']\n"
     ]
    }
   ],
   "source": [
    "# Reverse - Reverses the items of the list in place.\n",
    "my_list[3].reverse()\n",
    "print(my_list)"
   ]
  },
  {
   "cell_type": "code",
   "execution_count": 7,
   "metadata": {},
   "outputs": [
    {
     "name": "stdout",
     "output_type": "stream",
     "text": [
      "Removed Item: wolf\n",
      "['wolf', 'lion', 'inserted_value', [1997, 4, 1], 88.5, 44.2, ['ant', 'boot'], 'add_value']\n"
     ]
    }
   ],
   "source": [
    "# Pop - Remove and returns the last item in the list (if no index is specified).\n",
    "print('Removed Item:', my_list.pop())\n",
    "print(my_list)"
   ]
  },
  {
   "cell_type": "code",
   "execution_count": 8,
   "metadata": {},
   "outputs": [
    {
     "name": "stdout",
     "output_type": "stream",
     "text": [
      "['wolf', 'lion', [1997, 4, 1], 88.5, 44.2, ['ant', 'boot'], 'add_value']\n"
     ]
    }
   ],
   "source": [
    "# Remove - Removes the first item from the list that has a value of x.\n",
    "my_list.remove('inserted_value')\n",
    "print(my_list)"
   ]
  },
  {
   "cell_type": "code",
   "execution_count": 9,
   "metadata": {},
   "outputs": [
    {
     "name": "stdout",
     "output_type": "stream",
     "text": [
      "['wolf', 'lion', [1997, 4, 1], 88.5, 44.2, ['ant', 'boot'], 'add_value', 'add', 'new_list', 'to my_list']\n"
     ]
    }
   ],
   "source": [
    "# Extend - Extend the list by appending all the items from the another list.\n",
    "my_list.extend(['add', 'new_list', 'to my_list'])\n",
    "print(my_list)"
   ]
  },
  {
   "cell_type": "code",
   "execution_count": 10,
   "metadata": {},
   "outputs": [
    {
     "data": {
      "text/plain": [
       "3"
      ]
     },
     "execution_count": 10,
     "metadata": {},
     "output_type": "execute_result"
    }
   ],
   "source": [
    "# Index - Returns the position of the first list item that has a value of x.\n",
    "my_list.index(88.5)"
   ]
  },
  {
   "cell_type": "code",
   "execution_count": 11,
   "metadata": {},
   "outputs": [
    {
     "name": "stdout",
     "output_type": "stream",
     "text": [
      "['wolf', 'lion', [1997, 4, 1], 88.5, 44.2, ['ant', 'boot'], 'add_value', 'add', 'new_list', 'to my_list']\n"
     ]
    }
   ],
   "source": [
    "# Copy - Returns a shallow copy of the list.\n",
    "copied_list = my_list.copy()\n",
    "print(copied_list)"
   ]
  },
  {
   "cell_type": "code",
   "execution_count": 12,
   "metadata": {},
   "outputs": [
    {
     "name": "stdout",
     "output_type": "stream",
     "text": [
      "[]\n"
     ]
    }
   ],
   "source": [
    "# Clear - Removes all items from the list.\n",
    "my_list.clear()\n",
    "print(my_list)"
   ]
  },
  {
   "cell_type": "markdown",
   "metadata": {},
   "source": [
    "### Dictionary "
   ]
  },
  {
   "cell_type": "code",
   "execution_count": 14,
   "metadata": {},
   "outputs": [
    {
     "name": "stdout",
     "output_type": "stream",
     "text": [
      "{'srk': 'mannat', 'ambanis': 'antilia', 'amitabh': 'jalsa', 'ranbir': 'krishna raj', 'salman': 'galaxy'}\n",
      "<class 'dict'>\n"
     ]
    }
   ],
   "source": [
    "# Explore default Dictionary methods (Dictionary - Unorder collection of items, stores items in the form of key:value pairs)\n",
    "house_names = {'srk': 'mannat', 'ambanis': 'antilia', 'amitabh' : 'jalsa', 'ranbir' : 'krishna raj', 'salman' : 'galaxy'}\n",
    "print(house_names)\n",
    "print(type(house_names))"
   ]
  },
  {
   "cell_type": "code",
   "execution_count": 15,
   "metadata": {},
   "outputs": [
    {
     "data": {
      "text/plain": [
       "'jalsa'"
      ]
     },
     "execution_count": 15,
     "metadata": {},
     "output_type": "execute_result"
    }
   ],
   "source": [
    "# Get - Return a value of a key\n",
    "house_names.get('amitabh')"
   ]
  },
  {
   "cell_type": "code",
   "execution_count": 16,
   "metadata": {},
   "outputs": [
    {
     "data": {
      "text/plain": [
       "dict_items([('srk', 'mannat'), ('ambanis', 'antilia'), ('amitabh', 'jalsa'), ('ranbir', 'krishna raj'), ('salman', 'galaxy')])"
      ]
     },
     "execution_count": 16,
     "metadata": {},
     "output_type": "execute_result"
    }
   ],
   "source": [
    "# Items - Returns dictionary items in a different/simpler view\n",
    "house_names.items()"
   ]
  },
  {
   "cell_type": "code",
   "execution_count": 17,
   "metadata": {},
   "outputs": [
    {
     "data": {
      "text/plain": [
       "dict_keys(['srk', 'ambanis', 'amitabh', 'ranbir', 'salman'])"
      ]
     },
     "execution_count": 17,
     "metadata": {},
     "output_type": "execute_result"
    }
   ],
   "source": [
    "# Keys - Return dictionary keys\n",
    "house_names.keys()"
   ]
  },
  {
   "cell_type": "code",
   "execution_count": 18,
   "metadata": {},
   "outputs": [
    {
     "data": {
      "text/plain": [
       "dict_values(['mannat', 'antilia', 'jalsa', 'krishna raj', 'galaxy'])"
      ]
     },
     "execution_count": 18,
     "metadata": {},
     "output_type": "execute_result"
    }
   ],
   "source": [
    "# Values - Return dictionary values\n",
    "house_names.values()"
   ]
  },
  {
   "cell_type": "code",
   "execution_count": 19,
   "metadata": {},
   "outputs": [
    {
     "data": {
      "text/plain": [
       "{'srk': 0, 'ambanis': 0, 'ranbir': 0}"
      ]
     },
     "execution_count": 19,
     "metadata": {},
     "output_type": "execute_result"
    }
   ],
   "source": [
    "# fromkeys - Return a new dictionary with keys from [seq] and value equal to v.\n",
    "house_names.fromkeys(['srk', 'ambanis', 'ranbir'], 0)"
   ]
  },
  {
   "cell_type": "code",
   "execution_count": 20,
   "metadata": {},
   "outputs": [
    {
     "name": "stdout",
     "output_type": "stream",
     "text": [
      "Removed value: krishna raj\n",
      "{'srk': 'mannat', 'ambanis': 'antilia', 'amitabh': 'jalsa', 'salman': 'galaxy'}\n"
     ]
    }
   ],
   "source": [
    "# Pop - Remove the item with mentioned key and returns its value.\n",
    "print('Removed value:', house_names.pop('ranbir'))\n",
    "print(house_names)"
   ]
  },
  {
   "cell_type": "code",
   "execution_count": 21,
   "metadata": {},
   "outputs": [
    {
     "data": {
      "text/plain": [
       "('salman', 'galaxy')"
      ]
     },
     "execution_count": 21,
     "metadata": {},
     "output_type": "execute_result"
    }
   ],
   "source": [
    "# popitem - Remove and returns an arbitary item\n",
    "house_names.popitem()"
   ]
  },
  {
   "cell_type": "code",
   "execution_count": 22,
   "metadata": {},
   "outputs": [
    {
     "data": {
      "text/plain": [
       "'mannat'"
      ]
     },
     "execution_count": 22,
     "metadata": {},
     "output_type": "execute_result"
    }
   ],
   "source": [
    "# setdefault - If key is in the dictionary, returns its value. If not, insert key with a value v.\n",
    "house_names.setdefault('srk')"
   ]
  },
  {
   "cell_type": "code",
   "execution_count": 23,
   "metadata": {},
   "outputs": [
    {
     "name": "stdout",
     "output_type": "stream",
     "text": [
      "{'srk': 'mannat', 'ambanis': 'antilia', 'amitabh': 'jalsa'}\n"
     ]
    }
   ],
   "source": [
    "print(house_names)"
   ]
  },
  {
   "cell_type": "code",
   "execution_count": 24,
   "metadata": {},
   "outputs": [
    {
     "name": "stdout",
     "output_type": "stream",
     "text": [
      "{'srk': 'mannat', 'ambanis': 'antilia', 'amitabh': 'jalsa', 'ranbir': None}\n"
     ]
    }
   ],
   "source": [
    "house_names.setdefault('ranbir')\n",
    "print(house_names)"
   ]
  },
  {
   "cell_type": "code",
   "execution_count": 25,
   "metadata": {},
   "outputs": [
    {
     "name": "stdout",
     "output_type": "stream",
     "text": [
      "{'srk': 'mannat', 'ambanis': 'antilia', 'amitabh': 'jalsa', 'ranbir': None, 'shilpa': 'kundras'}\n"
     ]
    }
   ],
   "source": [
    "# Update - Updates dictionary with the elements from another dictionary.\n",
    "add_names = {'shilpa' : 'kundras'}\n",
    "house_names.update(add_names)\n",
    "print(house_names)"
   ]
  },
  {
   "cell_type": "code",
   "execution_count": 26,
   "metadata": {},
   "outputs": [
    {
     "data": {
      "text/plain": [
       "{'srk': 'mannat',\n",
       " 'ambanis': 'antilia',\n",
       " 'amitabh': 'jalsa',\n",
       " 'ranbir': None,\n",
       " 'shilpa': 'kundras'}"
      ]
     },
     "execution_count": 26,
     "metadata": {},
     "output_type": "execute_result"
    }
   ],
   "source": [
    "# Copy - Returns a shallow copy of the dictionary\n",
    "copied_dict = house_names.copy()\n",
    "copied_dict"
   ]
  },
  {
   "cell_type": "code",
   "execution_count": 27,
   "metadata": {},
   "outputs": [
    {
     "name": "stdout",
     "output_type": "stream",
     "text": [
      "{}\n"
     ]
    }
   ],
   "source": [
    "# Clear - Remove all items from the dictionary\n",
    "house_names.clear()\n",
    "print(house_names)"
   ]
  },
  {
   "cell_type": "markdown",
   "metadata": {},
   "source": [
    "### Sets"
   ]
  },
  {
   "cell_type": "code",
   "execution_count": 28,
   "metadata": {},
   "outputs": [
    {
     "name": "stdout",
     "output_type": "stream",
     "text": [
      "{2, 3.4, 'Hello', 78, 'World', 56, 90}\n",
      "<class 'set'>\n"
     ]
    }
   ],
   "source": [
    "# Explore default Set methods (Sets - immutable, unordered objects of unique values)\n",
    "my_set = {2, 3.4, 'Hello', 56, 78, 'World', 90, 3.4}\n",
    "print(my_set)\n",
    "print(type(my_set))"
   ]
  },
  {
   "cell_type": "code",
   "execution_count": 29,
   "metadata": {},
   "outputs": [
    {
     "name": "stdout",
     "output_type": "stream",
     "text": [
      "{2, 3.4, 'Hello', 78, 'World', 56, 90, 'Welcome to Python'}\n"
     ]
    }
   ],
   "source": [
    "# Add -  Adds an element to the set\n",
    "my_set.add('Welcome to Python')\n",
    "print(my_set)"
   ]
  },
  {
   "cell_type": "code",
   "execution_count": 30,
   "metadata": {},
   "outputs": [
    {
     "name": "stdout",
     "output_type": "stream",
     "text": [
      "{2, 3.4, 78, 'World', 56, 90, 'Welcome to Python'}\n"
     ]
    }
   ],
   "source": [
    "# Discard - Removes an element from the set\n",
    "my_set.discard('Hello')\n",
    "print(my_set)"
   ]
  },
  {
   "cell_type": "code",
   "execution_count": 31,
   "metadata": {},
   "outputs": [
    {
     "name": "stdout",
     "output_type": "stream",
     "text": [
      "Removed element: 2\n",
      "{3.4, 78, 'World', 56, 90, 'Welcome to Python'}\n"
     ]
    }
   ],
   "source": [
    "# Pop - Removes and returns an arbitary element\n",
    "print('Removed element:', my_set.pop())\n",
    "print(my_set)"
   ]
  },
  {
   "cell_type": "code",
   "execution_count": 32,
   "metadata": {},
   "outputs": [
    {
     "name": "stdout",
     "output_type": "stream",
     "text": [
      "{3.4, 78, 'World', 90, 'Welcome to Python'}\n"
     ]
    }
   ],
   "source": [
    "# Remove - Remove an element from the set\n",
    "my_set.remove(56)\n",
    "print(my_set)"
   ]
  },
  {
   "cell_type": "code",
   "execution_count": 33,
   "metadata": {},
   "outputs": [
    {
     "name": "stdout",
     "output_type": "stream",
     "text": [
      "{3.4, 2, 78, 'World', 56, 90, 'Welcome to Python'}\n"
     ]
    }
   ],
   "source": [
    "# Update - Update the set with union of itself and others\n",
    "my_set.update([2, 56])\n",
    "print(my_set)"
   ]
  },
  {
   "cell_type": "code",
   "execution_count": 44,
   "metadata": {},
   "outputs": [
    {
     "name": "stdout",
     "output_type": "stream",
     "text": [
      "{2, 3.4, 'Hello', 78, 'World', 56, 90}\n"
     ]
    }
   ],
   "source": [
    "my_set = {2, 3.4, 'Hello', 56, 78, 'World', 90, 3.4}\n",
    "print(my_set)"
   ]
  },
  {
   "cell_type": "code",
   "execution_count": 45,
   "metadata": {},
   "outputs": [
    {
     "name": "stdout",
     "output_type": "stream",
     "text": [
      "{2, 'New', 54, 87, 90, 'Set'}\n"
     ]
    }
   ],
   "source": [
    "my_set2 = {2, 54, 87, 90, 'New', 'Set'}\n",
    "print(my_set2)"
   ]
  },
  {
   "cell_type": "code",
   "execution_count": 36,
   "metadata": {},
   "outputs": [
    {
     "name": "stdout",
     "output_type": "stream",
     "text": [
      "{2, 3.4, 'Hello', 78, 'World', 'New', 54, 87, 56, 90, 'Set'}\n"
     ]
    }
   ],
   "source": [
    "# Union - Returns the union of two sets as a new set\n",
    "print(my_set.union(my_set2))"
   ]
  },
  {
   "cell_type": "code",
   "execution_count": 37,
   "metadata": {},
   "outputs": [
    {
     "name": "stdout",
     "output_type": "stream",
     "text": [
      "{3.4, 'Hello', 78, 'World', 56}\n"
     ]
    }
   ],
   "source": [
    "# Difference - Returns the differnce of two sets as a new set\n",
    "print(my_set.difference(my_set2))"
   ]
  },
  {
   "cell_type": "code",
   "execution_count": 38,
   "metadata": {},
   "outputs": [
    {
     "name": "stdout",
     "output_type": "stream",
     "text": [
      "{3.4, 'Hello', 78, 87, 'World', 'New', 54, 56, 'Set'}\n"
     ]
    }
   ],
   "source": [
    "# Symmetric Difference - Returns symmetrical difference of two sets as a new set\n",
    "print(my_set.symmetric_difference(my_set2))"
   ]
  },
  {
   "cell_type": "code",
   "execution_count": 39,
   "metadata": {},
   "outputs": [
    {
     "name": "stdout",
     "output_type": "stream",
     "text": [
      "{2, 90}\n"
     ]
    }
   ],
   "source": [
    "# Intersection - Returns the intersection of two sets as a new set\n",
    "print(my_set.intersection(my_set2))"
   ]
  },
  {
   "cell_type": "code",
   "execution_count": 40,
   "metadata": {},
   "outputs": [
    {
     "name": "stdout",
     "output_type": "stream",
     "text": [
      "None\n",
      "{2, 90}\n",
      "{2, 'New', 54, 87, 90, 'Set'}\n"
     ]
    }
   ],
   "source": [
    "# Intersection Update - Updates the set with intersection of itself and another\n",
    "print(my_set.intersection_update(my_set2))\n",
    "print(my_set)\n",
    "print(my_set2)"
   ]
  },
  {
   "cell_type": "code",
   "execution_count": 47,
   "metadata": {},
   "outputs": [
    {
     "name": "stdout",
     "output_type": "stream",
     "text": [
      "None\n",
      "{3.4, 'Hello', 78, 'World', 56}\n",
      "{2, 'New', 54, 87, 90, 'Set'}\n"
     ]
    }
   ],
   "source": [
    "# Difference Update - Removes all elements of another set from this set\n",
    "print(my_set.difference_update(my_set2))\n",
    "print(my_set)\n",
    "print(my_set2)"
   ]
  },
  {
   "cell_type": "code",
   "execution_count": 48,
   "metadata": {},
   "outputs": [
    {
     "name": "stdout",
     "output_type": "stream",
     "text": [
      "False\n",
      "False\n"
     ]
    }
   ],
   "source": [
    "# issubset - Returns True if another set contains this set\n",
    "print(my_set.issubset(my_set2))\n",
    "print(my_set2.issubset(my_set))"
   ]
  },
  {
   "cell_type": "code",
   "execution_count": 49,
   "metadata": {},
   "outputs": [
    {
     "name": "stdout",
     "output_type": "stream",
     "text": [
      "True\n",
      "True\n"
     ]
    }
   ],
   "source": [
    "# isdisjoint - Returns True if two sets have a null intersection\n",
    "print(my_set.isdisjoint(my_set2))\n",
    "print(my_set2.isdisjoint(my_set))"
   ]
  },
  {
   "cell_type": "code",
   "execution_count": 50,
   "metadata": {},
   "outputs": [
    {
     "name": "stdout",
     "output_type": "stream",
     "text": [
      "False\n",
      "False\n"
     ]
    }
   ],
   "source": [
    "# issuperset - Returns True if this set contains another set\n",
    "print(my_set.issuperset(my_set2))\n",
    "print(my_set2.issuperset(my_set))"
   ]
  },
  {
   "cell_type": "code",
   "execution_count": 51,
   "metadata": {},
   "outputs": [
    {
     "data": {
      "text/plain": [
       "{3.4, 56, 78, 'Hello', 'World'}"
      ]
     },
     "execution_count": 51,
     "metadata": {},
     "output_type": "execute_result"
    }
   ],
   "source": [
    "# Copy - Returns a copy of set\n",
    "my_set.copy()"
   ]
  },
  {
   "cell_type": "code",
   "execution_count": 53,
   "metadata": {},
   "outputs": [
    {
     "name": "stdout",
     "output_type": "stream",
     "text": [
      "set()\n"
     ]
    }
   ],
   "source": [
    "# Clear - Removes all elements from the set\n",
    "my_set2.clear()\n",
    "print(my_set2)"
   ]
  },
  {
   "cell_type": "markdown",
   "metadata": {},
   "source": [
    "# Thank You"
   ]
  }
 ],
 "metadata": {
  "kernelspec": {
   "display_name": "Python 3",
   "language": "python",
   "name": "python3"
  },
  "language_info": {
   "codemirror_mode": {
    "name": "ipython",
    "version": 3
   },
   "file_extension": ".py",
   "mimetype": "text/x-python",
   "name": "python",
   "nbconvert_exporter": "python",
   "pygments_lexer": "ipython3",
   "version": "3.7.3"
  }
 },
 "nbformat": 4,
 "nbformat_minor": 2
}
