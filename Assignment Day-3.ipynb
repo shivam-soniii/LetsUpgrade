{
 "cells": [
  {
   "cell_type": "markdown",
   "metadata": {},
   "source": [
    "# Assignment Day 3"
   ]
  },
  {
   "cell_type": "markdown",
   "metadata": {},
   "source": [
    "Q.1"
   ]
  },
  {
   "cell_type": "code",
   "execution_count": 1,
   "metadata": {},
   "outputs": [
    {
     "name": "stdout",
     "output_type": "stream",
     "text": [
      "Enter your marks to check the grade: 82\n",
      "B Grade\n"
     ]
    }
   ],
   "source": [
    "# Assign grade to the input number\n",
    "\n",
    "marks = int(input(\"Enter your marks to check the grade: \"))    # user input\n",
    "\n",
    "if marks < 0 or marks > 100:\n",
    "    print(\"Please enter a number between 0 - 100\")\n",
    "elif marks <= 100 and marks >= 91:\n",
    "    print(\"A Grade\")\n",
    "elif marks <= 90 and marks >= 81:\n",
    "    print(\"B Grade\")\n",
    "elif marks <= 80 and marks >= 61:\n",
    "    print(\"C Grade\")\n",
    "elif marks <= 60 and marks >= 41:\n",
    "    print(\"D Grade\")\n",
    "elif marks <= 40 and marks >= 33:\n",
    "    print(\"E Grade\")\n",
    "else:\n",
    "    print(\"F - Fail\")"
   ]
  },
  {
   "cell_type": "markdown",
   "metadata": {},
   "source": [
    "Q.2"
   ]
  },
  {
   "cell_type": "code",
   "execution_count": 2,
   "metadata": {},
   "outputs": [],
   "source": [
    "# Predict match score\n",
    "\n",
    "import random"
   ]
  },
  {
   "cell_type": "code",
   "execution_count": 3,
   "metadata": {},
   "outputs": [
    {
     "name": "stdout",
     "output_type": "stream",
     "text": [
      "Score is: 130\n"
     ]
    }
   ],
   "source": [
    "# Generate random score between 1-250\n",
    "score = random.randint(1, 250)\n",
    "print(\"Score is:\", score)"
   ]
  },
  {
   "cell_type": "code",
   "execution_count": 6,
   "metadata": {},
   "outputs": [
    {
     "name": "stdout",
     "output_type": "stream",
     "text": [
      "Predict score of Team India for a 20-20 match: 140\n",
      "Close By, You are a true Indian fan!\n"
     ]
    }
   ],
   "source": [
    "# Predict score\n",
    "pred_score = int(input(\"Predict score of Team India for a 20-20 match: \"))     # user input\n",
    "\n",
    "if pred_score < 1 or pred_score > 250:\n",
    "    print(\"Reduce your expectation for a 20-20 Cricket\")\n",
    "elif pred_score in range(score-10, score+11):\n",
    "    print(\"Close By, You are a true Indian fan!\")\n",
    "else:\n",
    "    print(\"You don't watch that much! :P\")"
   ]
  },
  {
   "cell_type": "code",
   "execution_count": 7,
   "metadata": {},
   "outputs": [
    {
     "name": "stdout",
     "output_type": "stream",
     "text": [
      "Predict score of Team India for a 20-20 match: 180\n",
      "You don't watch that much! :P\n"
     ]
    }
   ],
   "source": [
    "# Predict score once again\n",
    "pred_score = int(input(\"Predict score of Team India for a 20-20 match: \"))     # user input\n",
    "\n",
    "if pred_score < 1 or pred_score > 250:\n",
    "    print(\"Reduce your expectation for a 20-20 Cricket\")\n",
    "elif pred_score in range(score-10, score+11):\n",
    "    print(\"Close By, You are a true Indian fan!\")\n",
    "else:\n",
    "    print(\"You don't watch that much! :P\")"
   ]
  },
  {
   "cell_type": "markdown",
   "metadata": {},
   "source": [
    "# Thank You"
   ]
  }
 ],
 "metadata": {
  "kernelspec": {
   "display_name": "Python 3",
   "language": "python",
   "name": "python3"
  },
  "language_info": {
   "codemirror_mode": {
    "name": "ipython",
    "version": 3
   },
   "file_extension": ".py",
   "mimetype": "text/x-python",
   "name": "python",
   "nbconvert_exporter": "python",
   "pygments_lexer": "ipython3",
   "version": "3.7.3"
  }
 },
 "nbformat": 4,
 "nbformat_minor": 2
}
