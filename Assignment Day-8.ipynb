{
 "cells": [
  {
   "cell_type": "markdown",
   "metadata": {},
   "source": [
    "# Assignment Day 8"
   ]
  },
  {
   "cell_type": "markdown",
   "metadata": {},
   "source": [
    "Que - Print 'YES' or 'NO' depending on whether its possible to make given number containing all 0's or 1's or not, by flipping exactly 1 digit."
   ]
  },
  {
   "cell_type": "code",
   "execution_count": 1,
   "metadata": {},
   "outputs": [
    {
     "name": "stdout",
     "output_type": "stream",
     "text": [
      "Enter a number containing only Zeros(0's) and Ones(1's): 101\n",
      "YES\n"
     ]
    }
   ],
   "source": [
    "# Solution:\n",
    "\n",
    "def count():\n",
    "    D = input(\"Enter a number containing only Zeros(0's) and Ones(1's): \")\n",
    "    \n",
    "    count_0 = 0\n",
    "    count_1 = 0\n",
    "    unknown = 0\n",
    "    \n",
    "    for i in D:\n",
    "        if int(i) == 0:\n",
    "            count_0 = count_0 + 1\n",
    "        elif int(i) == 1:\n",
    "            count_1 = count_1 + 1\n",
    "        else:\n",
    "            unknown = unknown + 1\n",
    "            print(\"Only 0's and 1's are allowed, Try again!\")\n",
    "        \n",
    "    if unknown == 0:\n",
    "        check(count_0, count_1, D)\n",
    "    \n",
    "def check(count_0, count_1, D):\n",
    "    if count_0 == 1 or count_1 == 1:\n",
    "        print(\"YES\")\n",
    "    elif (count_0 == len(D)-1 and count_1 == 1) or (count_1 == len(D)-1 and count_0 == 1):\n",
    "        print(\"YES\")\n",
    "    else:\n",
    "        print(\"NO\")\n",
    "\n",
    "count()"
   ]
  },
  {
   "cell_type": "code",
   "execution_count": 2,
   "metadata": {},
   "outputs": [
    {
     "name": "stdout",
     "output_type": "stream",
     "text": [
      "Enter a number containing only Zeros(0's) and Ones(1's): 11\n",
      "NO\n"
     ]
    }
   ],
   "source": [
    "count()"
   ]
  },
  {
   "cell_type": "code",
   "execution_count": 3,
   "metadata": {},
   "outputs": [
    {
     "name": "stdout",
     "output_type": "stream",
     "text": [
      "Enter a number containing only Zeros(0's) and Ones(1's): 120001\n",
      "Only 0's and 1's are allowed, Try again!\n"
     ]
    }
   ],
   "source": [
    "count()"
   ]
  },
  {
   "cell_type": "code",
   "execution_count": 4,
   "metadata": {},
   "outputs": [
    {
     "name": "stdout",
     "output_type": "stream",
     "text": [
      "Enter a number containing only Zeros(0's) and Ones(1's): 010\n",
      "YES\n"
     ]
    }
   ],
   "source": [
    "count()"
   ]
  },
  {
   "cell_type": "code",
   "execution_count": 5,
   "metadata": {},
   "outputs": [
    {
     "name": "stdout",
     "output_type": "stream",
     "text": [
      "Enter a number containing only Zeros(0's) and Ones(1's): 1000000\n",
      "YES\n"
     ]
    }
   ],
   "source": [
    "count()"
   ]
  },
  {
   "cell_type": "markdown",
   "metadata": {},
   "source": [
    "# Thank You"
   ]
  }
 ],
 "metadata": {
  "kernelspec": {
   "display_name": "Python 3",
   "language": "python",
   "name": "python3"
  },
  "language_info": {
   "codemirror_mode": {
    "name": "ipython",
    "version": 3
   },
   "file_extension": ".py",
   "mimetype": "text/x-python",
   "name": "python",
   "nbconvert_exporter": "python",
   "pygments_lexer": "ipython3",
   "version": "3.7.3"
  }
 },
 "nbformat": 4,
 "nbformat_minor": 2
}
