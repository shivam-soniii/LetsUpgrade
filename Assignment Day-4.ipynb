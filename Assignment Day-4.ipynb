{
 "cells": [
  {
   "cell_type": "markdown",
   "metadata": {},
   "source": [
    "# Assignment Day 4"
   ]
  },
  {
   "cell_type": "markdown",
   "metadata": {},
   "source": [
    "Program to identify [1, 1, 5] in the given list in the same order."
   ]
  },
  {
   "cell_type": "code",
   "execution_count": 1,
   "metadata": {},
   "outputs": [],
   "source": [
    "# Solution\n",
    "\n",
    "output = []\n",
    "def listInList(sup, sub):\n",
    "    x = 0\n",
    "    for i in range(0, len(sup)):\n",
    "        if x > len(sub)-1:\n",
    "            break\n",
    "        if sup[i] == sub[x]:\n",
    "            output.append(sub[x])\n",
    "            x = x + 1\n",
    "#     print(output)    \n",
    "    if output == sub:\n",
    "        print(\"It's a Match!\")\n",
    "    else:\n",
    "        print(\"It's Gone!\")"
   ]
  },
  {
   "cell_type": "code",
   "execution_count": 2,
   "metadata": {},
   "outputs": [
    {
     "name": "stdout",
     "output_type": "stream",
     "text": [
      "It's a Match!\n"
     ]
    }
   ],
   "source": [
    "# execute the function\n",
    "\n",
    "a = [1, 5, 6, 4, 1, 2, 3, 5]\n",
    "b = [1, 1, 5]\n",
    "listInList(a, b)"
   ]
  },
  {
   "cell_type": "code",
   "execution_count": 3,
   "metadata": {},
   "outputs": [
    {
     "name": "stdout",
     "output_type": "stream",
     "text": [
      "It's Gone!\n"
     ]
    }
   ],
   "source": [
    "# execute the function\n",
    "\n",
    "a = [1, 5, 6, 5, 1, 2, 3, 6]\n",
    "b = [1, 1, 5]\n",
    "listInList(a, b)"
   ]
  },
  {
   "cell_type": "markdown",
   "metadata": {},
   "source": [
    "# Thank You "
   ]
  }
 ],
 "metadata": {
  "kernelspec": {
   "display_name": "Python 3",
   "language": "python",
   "name": "python3"
  },
  "language_info": {
   "codemirror_mode": {
    "name": "ipython",
    "version": 3
   },
   "file_extension": ".py",
   "mimetype": "text/x-python",
   "name": "python",
   "nbconvert_exporter": "python",
   "pygments_lexer": "ipython3",
   "version": "3.7.3"
  }
 },
 "nbformat": 4,
 "nbformat_minor": 2
}
