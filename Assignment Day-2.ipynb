{
 "cells": [
  {
   "cell_type": "markdown",
   "metadata": {},
   "source": [
    "# Assignment Day-2"
   ]
  },
  {
   "cell_type": "code",
   "execution_count": 1,
   "metadata": {},
   "outputs": [
    {
     "name": "stdout",
     "output_type": "stream",
     "text": [
      "C:\\Users\\600041745\\Desktop\\Python\\Jupyter Notebooks\\LetsUpgrade FCS Python Batch 2\n"
     ]
    }
   ],
   "source": [
    "# Get path of current working directory\n",
    "import os\n",
    "print(os.getcwd())"
   ]
  },
  {
   "cell_type": "markdown",
   "metadata": {},
   "source": [
    "### Print Function "
   ]
  },
  {
   "cell_type": "code",
   "execution_count": 2,
   "metadata": {},
   "outputs": [
    {
     "name": "stdout",
     "output_type": "stream",
     "text": [
      "20\n",
      "500\n",
      "5.3\n"
     ]
    }
   ],
   "source": [
    "# Play with print function\n",
    "\n",
    "a = 20\n",
    "b = 500\n",
    "c = 5.3\n",
    "d = a + b\n",
    "\n",
    "print(a)\n",
    "print(b)\n",
    "print(c)"
   ]
  },
  {
   "cell_type": "code",
   "execution_count": 3,
   "metadata": {},
   "outputs": [
    {
     "name": "stdout",
     "output_type": "stream",
     "text": [
      "Value of c is 5.3\n",
      "Addition of a= 20 and b= 500 is= 520\n"
     ]
    }
   ],
   "source": [
    "# concatenation inside print()\n",
    "\n",
    "print(\"Value of c is\", c)\n",
    "print(\"Addition of a=\", a, \"and b=\", b, \"is=\", d)"
   ]
  },
  {
   "cell_type": "markdown",
   "metadata": {},
   "source": [
    "### Data Types "
   ]
  },
  {
   "cell_type": "code",
   "execution_count": 4,
   "metadata": {},
   "outputs": [
    {
     "name": "stdout",
     "output_type": "stream",
     "text": [
      "<class 'str'>\n",
      "<class 'int'>\n",
      "<class 'float'>\n",
      "<class 'complex'>\n"
     ]
    }
   ],
   "source": [
    "# Data Types in Python\n",
    "\n",
    "a = \"Hello Python\"\n",
    "b = 101\n",
    "c = 12.4\n",
    "d = 19 + 97j    # a + bj -> Complex numbers\n",
    "\n",
    "print(type(a))\n",
    "print(type(b))\n",
    "print(type(c))\n",
    "print(type(d))"
   ]
  },
  {
   "cell_type": "code",
   "execution_count": 5,
   "metadata": {},
   "outputs": [
    {
     "name": "stdout",
     "output_type": "stream",
     "text": [
      "<class 'tuple'> (5, 0, 0, 0)\n"
     ]
    }
   ],
   "source": [
    "# Working with large integers\n",
    "\n",
    "x = 5,00,000,000\n",
    "print(type(x), x)     #  python by default convert the large integer values that contains commas into a tuple"
   ]
  },
  {
   "cell_type": "markdown",
   "metadata": {},
   "source": [
    "### Strings "
   ]
  },
  {
   "cell_type": "code",
   "execution_count": 6,
   "metadata": {},
   "outputs": [
    {
     "name": "stdout",
     "output_type": "stream",
     "text": [
      "<class 'str'> Python Programming\n"
     ]
    }
   ],
   "source": [
    "# Play with Strings\n",
    "\n",
    "str1 = 'Python Programming'\n",
    "print(type(a), str1)"
   ]
  },
  {
   "cell_type": "markdown",
   "metadata": {},
   "source": [
    "Slice Operation"
   ]
  },
  {
   "cell_type": "code",
   "execution_count": 7,
   "metadata": {},
   "outputs": [
    {
     "name": "stdout",
     "output_type": "stream",
     "text": [
      "Program\n",
      "Python \n",
      "thon Prog\n"
     ]
    }
   ],
   "source": [
    "# Slicing - In Python indexing starts from 0\n",
    "# To perform slicing we need to follow format of [start_index:end_index+1]\n",
    "\n",
    "# Forward Slicing\n",
    "\n",
    "print(str1[7:14])    # slicing 'Program' from the string\n",
    "print(str1[0:7])    # slicing 'Python' from the string\n",
    "print(str1[2:11])    # slicing 'thon Prog' from the string"
   ]
  },
  {
   "cell_type": "code",
   "execution_count": 8,
   "metadata": {},
   "outputs": [
    {
     "name": "stdout",
     "output_type": "stream",
     "text": [
      "Program\n",
      "Python\n",
      "thon Prog\n"
     ]
    }
   ],
   "source": [
    "# Backward Slicing - In backward slicing, indexing starts from -1, assigned to the right most character\n",
    "# then -2, -3 and so on towards left\n",
    "# format for performing slicing remains same here as well\n",
    "\n",
    "print(str1[-11:-4])    # slicing 'Program' from the string\n",
    "print(str1[:-12])    # slicing 'Python' from the string\n",
    "print(str1[-16:-7])    # slicing 'thon Prog' from the string"
   ]
  },
  {
   "cell_type": "markdown",
   "metadata": {},
   "source": [
    "String Concatenation"
   ]
  },
  {
   "cell_type": "code",
   "execution_count": 9,
   "metadata": {},
   "outputs": [
    {
     "data": {
      "text/plain": [
       "'pythonstrings'"
      ]
     },
     "execution_count": 9,
     "metadata": {},
     "output_type": "execute_result"
    }
   ],
   "source": [
    "# String concatenation\n",
    "# with strings, only + and * operation works\n",
    "# other operations like division(/), subtraction(-) doesn't work with strings\n",
    "\n",
    "# Example:\n",
    "\n",
    "\"python\" + \"strings\""
   ]
  },
  {
   "cell_type": "code",
   "execution_count": 10,
   "metadata": {},
   "outputs": [
    {
     "data": {
      "text/plain": [
       "'shivshivshivshiv'"
      ]
     },
     "execution_count": 10,
     "metadata": {},
     "output_type": "execute_result"
    }
   ],
   "source": [
    "\"shiv\" * 4"
   ]
  },
  {
   "cell_type": "markdown",
   "metadata": {},
   "source": [
    "### Order of Operations "
   ]
  },
  {
   "cell_type": "markdown",
   "metadata": {},
   "source": [
    "PEMDAS"
   ]
  },
  {
   "cell_type": "code",
   "execution_count": 11,
   "metadata": {},
   "outputs": [
    {
     "name": "stdout",
     "output_type": "stream",
     "text": [
      "4\n",
      "0\n"
     ]
    }
   ],
   "source": [
    "# Order of operation\n",
    "# Python follows a specific rule to perform mathametical operation i.e., PEMDAS\n",
    "# PEMDAS stands for parentheses, exponent, multiplication, division, addition and subtraction\n",
    "# For multiplication/division and addtion/subtraction there exists a rule of associativity (Left -> Right)\n",
    "\n",
    "# Examples:\n",
    "# By rule of associativity (L -> R)\n",
    "\n",
    "print(2 + 3 - 1)\n",
    "print(2 - 3 + 1)"
   ]
  },
  {
   "cell_type": "code",
   "execution_count": 12,
   "metadata": {},
   "outputs": [
    {
     "name": "stdout",
     "output_type": "stream",
     "text": [
      "1260.5\n"
     ]
    }
   ],
   "source": [
    "# Some more examples\n",
    "# Solve: 100/2 * 5 ** 2 + 10.5\n",
    "\"\"\"\n",
    "    Explaination: \n",
    "        Operation Steps(PEMDAS, L -> R):\n",
    "            1) 5 ** 2 = 25     -> 100/2 * 25 + 10.5\n",
    "            2) 100/2 = 50      -> 50 * 25 + 10.5\n",
    "            3) 50 * 25 = 1250  -> 1250 + 10.5\n",
    "            4) Answer should be: 1260.5\n",
    "\"\"\"\n",
    "\n",
    "print(100/2 * 5 ** 2 + 10.5)"
   ]
  },
  {
   "cell_type": "code",
   "execution_count": 13,
   "metadata": {},
   "outputs": [
    {
     "name": "stdout",
     "output_type": "stream",
     "text": [
      "150.5\n"
     ]
    }
   ],
   "source": [
    "# Solve: 4/2 ** (1 - 2) + 150\n",
    "\"\"\"\n",
    "    Explaination: \n",
    "        Operation Steps(PEMDAS, L -> R):\n",
    "            1) (4 - 1) = 3    -> 4/2 ** 3 + 150 \n",
    "            2) 4/2 ** 3 = 0.5 -> 0.5 + 150\n",
    "            4) Answer should be : 150.5\n",
    "\"\"\"\n",
    "\n",
    "print(4/2 ** (4 - 1) + 150)"
   ]
  },
  {
   "cell_type": "markdown",
   "metadata": {},
   "source": [
    "# Thank You"
   ]
  }
 ],
 "metadata": {
  "kernelspec": {
   "display_name": "Python 3",
   "language": "python",
   "name": "python3"
  },
  "language_info": {
   "codemirror_mode": {
    "name": "ipython",
    "version": 3
   },
   "file_extension": ".py",
   "mimetype": "text/x-python",
   "name": "python",
   "nbconvert_exporter": "python",
   "pygments_lexer": "ipython3",
   "version": "3.7.3"
  }
 },
 "nbformat": 4,
 "nbformat_minor": 2
}
